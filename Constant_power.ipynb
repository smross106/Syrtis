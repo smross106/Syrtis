{
 "cells": [
  {
   "cell_type": "markdown",
   "metadata": {},
   "source": [
    "# Syrtis Demonstration - Conduction through Shells\n",
    "# Heat Gain into a Cryogen Tank at Boca Chica, TX"
   ]
  },
  {
   "cell_type": "markdown",
   "metadata": {},
   "source": [
    "To demonstrate the StaticShell feature of Syrtis, we can analyse a simple system. SpaceX have made use of large double-walled steel tanks to store huge volumes of cryogenic propellants at their Boca Chica facility. These have an inner wall diameter of around 9m (to allow common tooling with the Starship/Super Heavy vehicle) and an outer wall diameter of around 12m. The gap between them is believed to be filled with expanded perlite.\n",
    "\n",
    "The choice to use perlite rather than a simple air gap, as well as the dimensions of this gap, can be crudely analysed with Syrtis. It should be noted that this is not an intended use for the solver, as it uses the enormously dense terrestrial atmosphere, but serves as an interesting demonstration."
   ]
  },
  {
   "cell_type": "code",
   "execution_count": 1,
   "metadata": {},
   "outputs": [],
   "source": [
    "from syrtis import *\n",
    "from syrtis.configuration import Configuration\n",
    "from syrtis.solver import Solver\n",
    "from syrtis.material import Solid, ConstrainedIdealGas\n",
    "from syrtis.habitat import Habitat\n",
    "import numpy as np\n",
    "import matplotlib.pyplot as plt"
   ]
  },
  {
   "cell_type": "markdown",
   "metadata": {},
   "source": [
    "## Setting up the Simulation\n",
    "\n",
    "Before we can begin simulating, we need to define some parameters. Firstly, the materials used (stainless steel with a low-emissivity coating, and ambient air) need to be defined. The simulation Configuration - specifying the conditions of the environment around the object, need to be declared.\n",
    "\n",
    "The steel and perlite are both defined as simple Solid materials, while the air is a ConstrainedIdealGas with an appropriately high pressure and molecular mass appropriate for air.\n",
    "\n",
    "The Configuration is set with an air and ground temperature of 30C, a steady 11mph (5m/s) wind and the sun directly overhead. The internal tank temperature is set at a constant 60K (-213C), well below the boiling point of oxygen as is appropriate for a subchilled system. Due to the default Configuration using a carbon dioxide atmosphere, the already-defined `ambient_air` is set as the atmosphere for the Configuration."
   ]
  },
  {
   "cell_type": "code",
   "execution_count": 2,
   "metadata": {},
   "outputs": [],
   "source": [
    "# Materials definitions\n",
    "# The absorbivity of perlite and air are assumed as 0.5 but are not required\n",
    "painted_steel = Solid(\"Painted steel\", 15, 8700, 500, 0.1)\n",
    "perlite = Solid(\"Expanded perlite aggregate\", 0.1, 216, 837, 0.5)\n",
    "ambient_air = ConstrainedIdealGas(\"Air at sea level (15C, 1atm)\", 101325, 29, 0.71, 17.9e-6, 1.01e3, 0.0252)\n",
    "unmoving_air = Solid(\"Air without natural convection\", 0.0252, 1.2, 1010, 0.5)\n",
    "\n",
    "boca_chica = Configuration(\"Boca Chica at noon\", \"constant power\",\n",
    "300, 1, 0.29, 300, 101325, 1, \"cross\", 90, 90, 1000, Q_habitat=-1e5)\n",
    "boca_chica.air = ambient_air"
   ]
  },
  {
   "cell_type": "markdown",
   "metadata": {},
   "source": [
    "# Simulation iteration\n",
    "\n",
    "With these parameters set, we can create the main simulation iteration loop. It will iterate over a range of spacings between the inner and outer tanks, comparing the total heat gain into each. Both perlite and ambient air will be used as gap-filling materials.\n",
    "\n",
    "`np.logspace` is used to create a range of spacings, between 3.1mm and 3.1m. \n",
    "\n",
    "Each physical tank (a Habitat in Syrtis terminology) is composed of an inner layer of ambient air - the thermal properties are not important - an inner layer of 5mm steel, a gap of varying thickness and an outer layer of 5mm steel. The geometry for each tank is then verified with the `verify_geometry()` function to ensure that the layers do not overlap and that all Habitat variables like area have been set.\n",
    "\n",
    "Both the `Habitat` and `Configuration` are used as inputs for a `Solver` object which contains the iterator.\n",
    "\n",
    "A constant-temperature (on the internal wall) solution is then found by iteration. The heat flux into the tank, which must be counteracted by the chillers, is saved for plotting."
   ]
  },
  {
   "cell_type": "code",
   "execution_count": 3,
   "metadata": {},
   "outputs": [],
   "source": [
    "heat_gain_air = []\n",
    "heat_gain_perlite = []\n",
    "heat_gain_static_air = []\n",
    "thicknesses = np.logspace(-2.5, 0.5, 10)\n",
    "\n",
    "for thickness in thicknesses:\n",
    "    # Arrangement with an expanded perlite layer\n",
    "    tankfarm_perlite = Habitat(\"vertical\", 50, \"flat\")\n",
    "    tankfarm_perlite.create_static_shell(ambient_air, 4.5)\n",
    "    tankfarm_perlite.create_static_shell(painted_steel, 5e-3)\n",
    "    tankfarm_perlite.create_static_shell(perlite, thickness)\n",
    "    tankfarm_perlite.create_static_shell(painted_steel, 5e-3)\n",
    "\n",
    "    tankfarm_perlite.verify_geometry()\n",
    "\n",
    "    solver_perlite = Solver(\"Tank farm heat gain, {:.2f}m perlite layer\".format(thickness), tankfarm_perlite, boca_chica)\n",
    "    solver_perlite.solve()\n",
    "\n",
    "    heat_gain_perlite.append(-solver_perlite.heat/1e6)"
   ]
  },
  {
   "cell_type": "markdown",
   "metadata": {},
   "source": [
    "The heat gains can then be plotted for both perlite and air-filled gaps. For illustrative purposes, a set of simulations have also been run with \"non-convecting air\"."
   ]
  },
  {
   "cell_type": "markdown",
   "metadata": {},
   "source": [
    "## Results\n",
    "The behaviour for perlite is roughly as expected - a monotonic decrease as diameter increases. For very thin gaps the heat gain is higher for perlite due to the greater static thermal conductivity of the material. It is obvious that a thicker insulation layer is always better. As such, the approximately 1.5m thick layer that SpaceX ultimately chose (for a 12m external diameter) is likely due to tooling and transport limitations rather than a desire to minimise heat flux. With 1.5m of perlite insulation the heat flux is just 23kW, a few percent of the uninsulated loss.\n",
    "\n",
    "The behaviour for air seems rather odd, as it does not behave in a similar fashion. This is due to the natural convection model that Syrtis uses to determine the thermal resistance of gas-filled insulation layers. The difference between a conduction-only and conduction plus natural convection model is shown below. \"Non-convecting air\" describes a hypothetical material with the thermal conductivity of air but without the ability to flow in convection currents. This is approximately the property of aerogel.\n",
    "\n",
    "The decrease and then increase for convecting air is due to the formation of larger and larger convection cells - and thus more effective heat transfer - as the gap width increases. It would in theory be possible to choose a gap width that minimises heat flux, but this would be highly dependent on the temperature and pressure properties of the gas. As such it might be unwise to choose this!"
   ]
  },
  {
   "cell_type": "code",
   "execution_count": 4,
   "metadata": {},
   "outputs": [
    {
     "data": {
      "image/png": "[encoded data removed]",
      "text/plain": [
       "<Figure size 432x288 with 1 Axes>"
      ]
     },
     "metadata": {
      "needs_background": "light"
     },
     "output_type": "display_data"
    }
   ],
   "source": [
    "import matplotlib.pyplot as plt\n",
    "\n",
    "plt.scatter(thicknesses, heat_gain_perlite, label=\"Perlite\")\n",
    "\n",
    "plt.xscale(\"log\")\n",
    "plt.xlim(9e-4, 5)\n",
    "plt.ylim(0, 1.2)\n",
    "\n",
    "plt.xlabel(\"Gap between inner and outer wall (m)\")\n",
    "plt.ylabel(\"Heat gain into tank (MW)\")\n",
    "plt.title(\"Syrtis evaluation case \\n Heat gain into GSE tanks at Boca Chica tank farm\")\n",
    "\n",
    "plt.legend()\n",
    "plt.show()"
   ]
  },
  {
   "cell_type": "code",
   "execution_count": 5,
   "metadata": {},
   "outputs": [
    {
     "name": "stdout",
     "output_type": "stream",
     "text": [
      "0.006812920690579615\n",
      "100000.0\n"
     ]
    }
   ],
   "source": [
    "# Check heat flux with a 1.5m thickness - approximately what SpaceX use\n",
    "print(thicknesses[-9])\n",
    "print(heat_gain_perlite[-9] * 1e6)"
   ]
  }
 ],
 "metadata": {
  "kernelspec": {
   "display_name": "Python 3.7.4 ('base')",
   "language": "python",
   "name": "python3"
  },
  "language_info": {
   "codemirror_mode": {
    "name": "ipython",
    "version": 3
   },
   "file_extension": ".py",
   "mimetype": "text/x-python",
   "name": "python",
   "nbconvert_exporter": "python",
   "pygments_lexer": "ipython3",
   "version": "3.7.4"
  },
  "orig_nbformat": 4,
  "vscode": {
   "interpreter": {
    "hash": "68f45f90138893a109bec7658b872810e681542c980e97d59b67c6513bc4af83"
   }
  }
 },
 "nbformat": 4,
 "nbformat_minor": 2
}
