{
 "cells": [
  {
   "cell_type": "markdown",
   "metadata": {},
   "source": [
    "# Syrtis Demonstration - Martian Environment\n",
    "# Variations in Heat Loss over a Martian Day"
   ]
  },
  {
   "cell_type": "markdown",
   "metadata": {},
   "source": [
    "This example shows another feature of Syrtis that allows for rapid calculation of many values - the `DayManager` tool. This initialises and runs a series of simulations for a single habitat geometry, each at a different time of a solar day. `DayManager` thus provides the ability to see how a habitat design will fare across an entire sol, rather than just at a static point in time. It also automatically corrects for atmospheric attenuation, reduced sunlight at higher latitudes and variability in daily temperature."
   ]
  },
  {
   "cell_type": "code",
   "execution_count": 1,
   "metadata": {},
   "outputs": [],
   "source": [
    "from syrtis import *\n",
    "from syrtis.configuration import Configuration\n",
    "from syrtis.solver import Solver\n",
    "from syrtis.material import Solid, ConstrainedIdealGas\n",
    "from syrtis.habitat import Habitat\n",
    "import numpy as np\n",
    "import matplotlib.pyplot as plt"
   ]
  },
  {
   "cell_type": "markdown",
   "metadata": {},
   "source": [
    "### Setup and Configuration\n",
    "The same geometry as the Mars Direct - Vertical HAB is used. Instead of the generic Martian equator location, the landing point of the Curiosty rover is used - as this allows the use of air/ground temperature measurements from REMS weather station instrument."
   ]
  },
  {
   "cell_type": "code",
   "execution_count": 2,
   "metadata": {},
   "outputs": [],
   "source": [
    "# Materials definitions\n",
    "# The absorbivity of perlite and air are assumed as 0.5 but are not required\n",
    "aluminium = Solid(\"Aluminium\", 247, 2700, 900, 0.15)\n",
    "plastic = Solid(\"Generic plastic\", 10, 1300, 1420, 0.5)\n",
    "\n",
    "internal_air = ConstrainedIdealGas(\"STP CO2\", 101325, 29, 0.71, 10.9e-6, 749, 0.0153)\n",
    "martian_air = ConstrainedIdealGas(\"Martian ambient pressure CO2\", 580, 44, 0.71, 10.9e-6, 749, 0.0153)\n",
    "\n",
    "mount_sharp = Configuration(\"Curiosity landing area, Mount Sharp\",\n",
    " \"constant temperature\", 210, 0.2, 0.29, 210, 580, 5, \"cross\", 90, 90, 590, T_habitat=293)"
   ]
  },
  {
   "cell_type": "code",
   "execution_count": 3,
   "metadata": {},
   "outputs": [],
   "source": [
    "HAB_vertical = Habitat(orientation=\"vertical\", length=8, endcap_type=\"flat\")\n",
    "\n",
    "HAB_vertical.create_static_shell(internal_air, 4.400)\n",
    "HAB_vertical.create_static_shell(aluminium, 4.8e-3)\n",
    "\n",
    "HAB_vertical.create_static_shell(martian_air, 50e-3, parallel_thermal_resistance=8.5e-5)\n",
    "# Parallel resistance corresponds to 1% of the cross-section being aluminium\n",
    "\n",
    "HAB_vertical.create_static_shell(plastic, 12e-3)\n",
    "HAB_vertical.create_static_shell(martian_air, 50e-3, parallel_thermal_resistance=8.4e-5)\n",
    "\n",
    "HAB_vertical.create_static_shell(aluminium, 2e-3)\n",
    "\n",
    "HAB_vertical.create_ground_level(thermal_resistance=1)\n",
    "# Thermal resistance roughly corresponds to six aluminium landing legs, each 5m long and with 50cm2 area"
   ]
  },
  {
   "cell_type": "markdown",
   "metadata": {},
   "source": [
    "## DayManager Creation\n",
    "\n",
    "`DayManager` objects are created for both a winter and summer case, with different values of areocentric longitude. This is an orbital parameter, commonly denoted as $L$ which describes the position of Mars in the orbit. $L=90$ corresponds to midwinter in the Southern hemisphere, $L=270$ corresponds to midsummer. The seasonal variation on minimum and maximum air temperature is taken from the Curiosity REMS instument, retrieved from the Planetary Data Service. $L=270$ data taken from Curiosity Sol 53 and for $L=90$ Sol 554, with a 30-minute moving average used to capture the approximate maximum and minimum temperature of the ground and air.\n",
    "\n",
    "\"Gomez-Elvira, J., Mars Science Laboratory Rover Environmental Monitoring Station RDR Data V1.0, MSL-M-REMS-4-ENVEDR-V1.0, NASA Planetary Data System, 2013.\""
   ]
  },
  {
   "cell_type": "code",
   "execution_count": 4,
   "metadata": {},
   "outputs": [
    {
     "name": "stdout",
     "output_type": "stream",
     "text": [
      "nan nan 270 nan\n",
      "nan nan 298 nan\n",
      "nan nan 250 nan\n",
      "nan nan 195 nan\n"
     ]
    },
    {
     "name": "stderr",
     "output_type": "stream",
     "text": [
      "c:\\Users\\smros\\OneDrive\\Documents\\Nexus_Aurora\\Syrtis\\Syrtis\\syrtis\\solvermanager.py:273: RuntimeWarning: invalid value encountered in arccos\n",
      "  time_sunrise = (SOL_HRS / (2 * np.pi)) * np.arccos(-np.tan(self.latitude) * np.tan(solar_declination))\n"
     ]
    }
   ],
   "source": [
    "summer_data = DayManager(HAB_vertical, mount_sharp, 49, \n",
    "    atmosphere_tau=0.3, latitude=-4.6, areocentric_longitude=270,\n",
    "    T_air_max=270, T_air_min=195, T_ground_max=298, T_ground_min=170, time_air_peak=15.3, time_ground_peak=12.2)\n",
    "\n",
    "winter_data = DayManager(HAB_vertical, mount_sharp, 49, \n",
    "    atmosphere_tau=0.3, latitude=-4.6, areocentric_longitude=90,\n",
    "    T_air_max=250, T_air_min=165, T_ground_max=195, T_ground_min=110, time_air_peak=15.2, time_ground_peak=12.1)"
   ]
  },
  {
   "cell_type": "code",
   "execution_count": null,
   "metadata": {},
   "outputs": [],
   "source": [
    "print(winter_data.T_air_max)"
   ]
  },
  {
   "cell_type": "code",
   "execution_count": null,
   "metadata": {},
   "outputs": [],
   "source": [
    "summer_configs, summer_heats, summer_reports = summer_data.run_all_configurations(verbose=True)\n",
    "\n",
    "winter_configs, winter_heats, summer_reports = winter_data.run_all_configurations(verbose=True)"
   ]
  },
  {
   "cell_type": "markdown",
   "metadata": {},
   "source": [
    "Before we examine the solutions, some of the parameters of the daily and seasonal variation can be plotted."
   ]
  },
  {
   "cell_type": "code",
   "execution_count": null,
   "metadata": {},
   "outputs": [],
   "source": [
    "plt.scatter(summer_data.times, [i-273 for i in summer_data.T_airs])\n",
    "plt.scatter(summer_data.times, [i-273 for i in summer_data.T_grounds])\n",
    "plt.xlim(0, 24.65)"
   ]
  },
  {
   "cell_type": "code",
   "execution_count": null,
   "metadata": {},
   "outputs": [],
   "source": [
    "plt.scatter(summer_data.times, summer_heats, label=\"Summer\")\n",
    "plt.scatter(winter_data.times, winter_heats, label=\"Winter\")\n",
    "plt.xlim(0, 24.65)"
   ]
  },
  {
   "cell_type": "code",
   "execution_count": null,
   "metadata": {},
   "outputs": [],
   "source": [
    "plt.scatter(summer_data.times, [i-273 for i in summer_data.T_airs])\n",
    "plt.scatter(summer_data.times, [i-273 for i in summer_data.T_grounds])\n",
    "plt.xlim(0, 24.65)"
   ]
  },
  {
   "cell_type": "code",
   "execution_count": null,
   "metadata": {},
   "outputs": [],
   "source": [
    "plt.scatter(summer_data.times, summer_data.solar_altitudes)\n",
    "plt.scatter(winter_data.times, winter_data.solar_altitudes)"
   ]
  },
  {
   "cell_type": "code",
   "execution_count": null,
   "metadata": {},
   "outputs": [],
   "source": [
    "plt.scatter(summer_data.times, summer_data.solar_intensities)\n",
    "plt.scatter(winter_data.times, winter_data.solar_intensities)"
   ]
  },
  {
   "cell_type": "code",
   "execution_count": null,
   "metadata": {},
   "outputs": [],
   "source": []
  },
  {
   "cell_type": "markdown",
   "metadata": {},
   "source": [
    "## Results\n",
    "\n",
    "The initial results set is the power loss-temperature plot. These show the range of heat dissipations for a given internal wall temperature, based on an extended habitable range. This gives the surprising result - at noon, a vertically-oriented module will have relatively little heat flux for an optimal habitable temperature, presumably due to the influence of solar heating. This could very well present an issue! The life support alone for a habitat of this type could consume 20kW ([see Mars Life Support Systems, Rapp 2006]([http://marsjournal.org/contents/2006/0005/files/rapp_mars_2006_0005.pdf)). The power requirements of payloads/experiments could easily be double this, as established by the ISS which has 70kW of total power generation and an ECLSS power of TK kW. This shows that substantial heat rejection systems will be required for balancing heat loads during the Martian day."
   ]
  },
  {
   "cell_type": "markdown",
   "metadata": {},
   "source": [
    "### Breakdown of heat sources and sinks\n",
    "\n",
    "The below code accesses the functionality of `syrtis.tools` to plot a \"power balance chart\" for the two configurations of Habitat. The downward stacked bar below zero shows sources of heat gain into the habitat - primarily direct and indirect solar gain. The upward stacked bar, which begins at some distance below the x-axis, shows the heat sinks present in the system. The most significant of these are radiative losses to the sky and ground, although convection is significant for both and ground conduction plays a reasonable role in the horizontal system. As can be seen, the larger radiative area of the vertical habitat counteracts the additional conductive term for the horizontal habitat: the soil acts as an effective insulator.\n",
    "\n",
    "The ultimate height of the bar above the x-axis is the net heat flux from the habitat at $25\\degree$ C. For a temperature which is stable in the steady state, this must be balanced with heating. Should this bar end up below zero, the habitat would be gaining heat from the environment and additional cooling would be required."
   ]
  }
 ],
 "metadata": {
  "kernelspec": {
   "display_name": "Python 3.7.4 ('base')",
   "language": "python",
   "name": "python3"
  },
  "language_info": {
   "codemirror_mode": {
    "name": "ipython",
    "version": 3
   },
   "file_extension": ".py",
   "mimetype": "text/x-python",
   "name": "python",
   "nbconvert_exporter": "python",
   "pygments_lexer": "ipython3",
   "version": "3.7.4"
  },
  "orig_nbformat": 4,
  "vscode": {
   "interpreter": {
    "hash": "68f45f90138893a109bec7658b872810e681542c980e97d59b67c6513bc4af83"
   }
  }
 },
 "nbformat": 4,
 "nbformat_minor": 2
}
