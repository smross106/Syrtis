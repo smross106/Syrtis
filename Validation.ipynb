{
 "cells": [
  {
   "cell_type": "markdown",
   "metadata": {},
   "source": [
    "# Syrtis Validation\n",
    "# Validation of Convective Transfer versus Ansys Fluent"
   ]
  },
  {
   "cell_type": "markdown",
   "metadata": {},
   "source": [
    "One major uncertainty in Syrtis is the assumption that simple convective heat transfer correlations can be used to model the more complex geometries used - particularly, a cylinder in close proximity to the ground plane. This is validated against Ansys Fluent CFD simulation to determine the accuracy of Syrtis."
   ]
  },
  {
   "cell_type": "code",
   "execution_count": 1,
   "metadata": {},
   "outputs": [],
   "source": [
    "from syrtis import *\n",
    "from syrtis.configuration import Configuration\n",
    "from syrtis.solver import Solver\n",
    "from syrtis.material import Solid, ConstrainedIdealGas\n",
    "from syrtis.habitat import Habitat\n",
    "import numpy as np\n",
    "import matplotlib.pyplot as plt"
   ]
  },
  {
   "cell_type": "code",
   "execution_count": 2,
   "metadata": {},
   "outputs": [],
   "source": [
    "# Materials definitions\n",
    "# The absorbivity of perlite and air are assumed as 0.5 but are not required\n",
    "aluminium = Solid(\"Aluminium\", 247, 2700, 900, absorb=0.15, emit=0.04)\n",
    "plastic = Solid(\"Generic plastic\", 10, 1300, 1420,  absorb=0.89, emit=0.84)\n",
    "\n",
    "internal_air = ConstrainedIdealGas(\"STP Air\", 101325, 29, 0.71, 17.9e-6, 1010, 0.0252)\n",
    "martian_air = ConstrainedIdealGas(\"Martian ambient pressure CO2\", 580, 44, 0.71, 10.9e-6, 749, 0.0153)\n",
    "\n",
    "mount_sharp = Configuration(\"Curiosity landing area, Mount Sharp\",\n",
    " \"constant temperature\", 210, 0.2, 0.29, 210, 580, 5, \"cross\", 90, 90, 590, T_habitat=293)"
   ]
  },
  {
   "cell_type": "code",
   "execution_count": 3,
   "metadata": {},
   "outputs": [],
   "source": [
    "test_horizontal = Habitat(\"horizontal\", 10, \"hemisphere\")\n",
    "test_horizontal.create_static_shell(internal_air, 2.9)\n",
    "test_horizontal.create_static_shell(aluminium, 0.1)\n",
    "\n",
    "test_horizontal.verify_geometry()"
   ]
  },
  {
   "cell_type": "code",
   "execution_count": 4,
   "metadata": {},
   "outputs": [
    {
     "name": "stdout",
     "output_type": "stream",
     "text": [
      "3195.1373732047823 1516.8167864922232\n"
     ]
    }
   ],
   "source": [
    "Q_cylinder = test_horizontal.convective_loss_cylinder_cross(martian_air, \n",
    "                                                                5,\n",
    "                                                                210,\n",
    "                                                                270)\n",
    "Q_endcap = test_horizontal.convective_loss_endcap_cross(martian_air, \n",
    "                                                                5,\n",
    "                                                                210,\n",
    "                                                                270)\n",
    "print(Q_cylinder, Q_endcap)\n",
    "half_habitat_loss = (Q_cylinder + Q_endcap) / 2"
   ]
  },
  {
   "cell_type": "code",
   "execution_count": 5,
   "metadata": {},
   "outputs": [],
   "source": [
    "# Ansys Fluent data\n",
    "clearances = [3, 2.5, 2, 1.5, 1, 0.8, 0.6, 0.5, 0.4, 0.3, 0.2, 0.15, 0.1, 0.05, 0.001]\n",
    "ansys_losses = [2256.4, 2288.2, 2294.7, 2340.7, 2388.1, 2428.0, 2463.5, 2509.0, 2501.5, 2530.7, 2594.1, 2510.8, 2449.5, 2306.1, 2154.2]"
   ]
  },
  {
   "cell_type": "code",
   "execution_count": 6,
   "metadata": {},
   "outputs": [
    {
     "data": {
      "text/plain": [
       "Text(0.5, 1.0, 'Validation of Syrtis convection model vs Ansys Fluent')"
      ]
     },
     "execution_count": 6,
     "metadata": {},
     "output_type": "execute_result"
    },
    {
     "data": {
      "image/png": "[encoded data removed]",
      "text/plain": [
       "<Figure size 432x288 with 1 Axes>"
      ]
     },
     "metadata": {
      "needs_background": "light"
     },
     "output_type": "display_data"
    }
   ],
   "source": [
    "plt.plot([0.001, 3], [half_habitat_loss, half_habitat_loss], color=\"r\", label=\"Predicted by Syrtis\")\n",
    "plt.fill_between([0.001, 3], y1=[half_habitat_loss*0.9, half_habitat_loss*0.9], \n",
    "y2=[half_habitat_loss*1.1, half_habitat_loss*1.1], label=\"+-10%% error band\", color=\"r\", alpha=0.2)\n",
    "\n",
    "plt.scatter(clearances, ansys_losses, label=\"Calculated in Ansys Fluent\")\n",
    "plt.legend()\n",
    "plt.ylim(1500, 2650)\n",
    "plt.xlabel(\"Distance from base of habitat to ground (m)\")\n",
    "plt.ylabel(\"Predicted convective heat loss\")\n",
    "plt.title(\"Validation of Syrtis convection model vs Ansys Fluent\")\n"
   ]
  }
 ],
 "metadata": {
  "kernelspec": {
   "display_name": "Python 3.7.4 ('base')",
   "language": "python",
   "name": "python3"
  },
  "language_info": {
   "codemirror_mode": {
    "name": "ipython",
    "version": 3
   },
   "file_extension": ".py",
   "mimetype": "text/x-python",
   "name": "python",
   "nbconvert_exporter": "python",
   "pygments_lexer": "ipython3",
   "version": "3.7.4"
  },
  "orig_nbformat": 4,
  "vscode": {
   "interpreter": {
    "hash": "68f45f90138893a109bec7658b872810e681542c980e97d59b67c6513bc4af83"
   }
  }
 },
 "nbformat": 4,
 "nbformat_minor": 2
}
