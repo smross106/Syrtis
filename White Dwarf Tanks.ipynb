{
 "cells": [
  {
   "cell_type": "markdown",
   "metadata": {},
   "source": [
    "# Syrtis Demonstration - Heat gain into propellant tank\n",
    "# Heat Gain into a Low-Temperature Tank at Westcott, Bucks"
   ]
  },
  {
   "cell_type": "code",
   "execution_count": 1,
   "metadata": {},
   "outputs": [],
   "source": [
    "from syrtis.configuration import Configuration\n",
    "from syrtis.solver import Solver\n",
    "from syrtis.material import Solid, ConstrainedIdealGas\n",
    "from syrtis.habitat import Habitat\n",
    "from syrtis.solvermanager import ConfigurationManager\n",
    "from syrtis import *\n",
    "import numpy as np"
   ]
  },
  {
   "cell_type": "markdown",
   "metadata": {},
   "source": [
    "## Setting up the Simulation\n",
    "\n",
    "The tanks are assumed to be unpolished aluminium, with the inner wall held at a constant temperature equal to the nitrous temperature. Hemispherical endcaps are used on both ends - a slight error given the bottom of the tank is actually flat when the boot is included. Ground conduction is neglected.\n",
    "\n",
    "ToolStation thermal blankets are used, with 3.7mm thickness and a thermal conductivity of 0.0025W/m/K"
   ]
  },
  {
   "cell_type": "code",
   "execution_count": 2,
   "metadata": {},
   "outputs": [],
   "source": [
    "# Materials definitions\n",
    "# The absorbivity of perlite and air are assumed as 0.5 but are not required\n",
    "ambient_air = ConstrainedIdealGas(\"Air at sea level (15C, 1atm)\", 101325, 29, 0.71, 17.9e-6, 1.01e3, 0.0252)\n",
    "aluminium = Solid(\"Aluminium\", 247, 2700, 900, 0.15)\n",
    "thermal_blanket = Solid(\"ToolStation thermal blanket\", 2.5e-3, 300, 900, absorb=0.15, emit=0.05)\n",
    "\n",
    "westcott = Configuration(\"Wescott near noon\", \"constant temperature\",\n",
    "300, 1, 0.29, 300, 101325, 1, \"cross\", 90, 60, 1000, T_habitat=60)\n",
    "westcott.air = ambient_air"
   ]
  },
  {
   "cell_type": "code",
   "execution_count": 3,
   "metadata": {},
   "outputs": [],
   "source": [
    "tank = Habitat(orientation=\"vertical\", length=0.6, endcap_type=\"hemisphere\")\n",
    "tank.create_static_shell(ambient_air, 0.1)\n",
    "tank.create_static_shell(aluminium, 15e-3)\n",
    "\n",
    "insulated_tank = copy.deepcopy(tank)\n",
    "insulated_tank.create_static_shell(thermal_blanket, 3.7e-3)"
   ]
  },
  {
   "cell_type": "code",
   "execution_count": 4,
   "metadata": {},
   "outputs": [],
   "source": [
    "cm_bare = ConfigurationManager(tank, westcott, {\"T_habitat\":list(range(253, 293,1 ))})\n",
    "configs_bare, heats_bare, reports_bare = cm_bare.run_all_configurations(verbose=True)"
   ]
  },
  {
   "cell_type": "code",
   "execution_count": 5,
   "metadata": {},
   "outputs": [],
   "source": [
    "cm_ins = ConfigurationManager(insulated_tank, westcott, {\"T_habitat\":list(range(253, 293,1 ))})\n",
    "configs_ins, heats_ins, reports_ins = cm_ins.run_all_configurations(verbose=True)"
   ]
  },
  {
   "cell_type": "markdown",
   "metadata": {},
   "source": [
    "## Results\n",
    "\n",
    "Temperatures are negative because Syrtis defines positive heat flux as outwards"
   ]
  },
  {
   "cell_type": "code",
   "execution_count": 6,
   "metadata": {},
   "outputs": [
    {
     "data": {
      "image/png": "[encoded data removed]",
      "text/plain": [
       "<Figure size 432x288 with 1 Axes>"
      ]
     },
     "metadata": {
      "needs_background": "light"
     },
     "output_type": "display_data"
    }
   ],
   "source": [
    "import matplotlib.pyplot as plt\n",
    "\n",
    "habitat_temps = [(config[\"T_habitat\"]-273) for config in configs_bare]\n",
    "plt.scatter(habitat_temps, heats_bare, label=\"Uninsulated configuration\")\n",
    "plt.scatter(habitat_temps, heats_ins, label=\"Uninsulated configuration\")\n",
    "\n",
    "plt.ylabel(\"Heat flux into tank(W)\")\n",
    "plt.xlabel(\"Tank internal temperature (C)\")\n",
    "plt.title(\"Internal temperature vs heat loss\")\n",
    "\n",
    "plt.legend()\n",
    "plt.show()"
   ]
  },
  {
   "cell_type": "markdown",
   "metadata": {},
   "source": [
    "## Heat flux breakdowns"
   ]
  },
  {
   "cell_type": "code",
   "execution_count": 8,
   "metadata": {},
   "outputs": [
    {
     "name": "stdout",
     "output_type": "stream",
     "text": [
      "{'ID': 'Wescott near noon', 'Total heat flux out': -140.71629517580726, 'Outer wall temperature': 273.02112034143573, 'Convective loss from cylinder': -92.4523790843448, 'Convective loss from endcap': -12.594810109753064, 'Radiative loss to sky': 12.207115411363661, 'Radiative loss to ground': 12.207115411363661, 'Radiative gain from sky': -14.870032305297318, 'Radiative gain from ground': 1.0763813810435883, 'Direct solar gain': -23.816067213279375, 'Reflected solar gain': -22.473618666903604, 'Conduction loss to ground': 0}\n"
     ]
    }
   ],
   "source": [
    "print(bare_report_273)"
   ]
  },
  {
   "cell_type": "code",
   "execution_count": 9,
   "metadata": {},
   "outputs": [
    {
     "name": "stdout",
     "output_type": "stream",
     "text": [
      "{'ID': 'Wescott near noon', 'Total heat flux out': -10.923803863719545, 'Outer wall temperature': 309.7051822032528, 'Convective loss from cylinder': 32.64654499414052, 'Convective loss from endcap': 4.762720918478211, 'Radiative loss to sky': 6.990289931857039, 'Radiative loss to ground': 6.990289931857039, 'Radiative gain from sky': -15.42788502590331, 'Radiative gain from ground': 1.1167620789127441, 'Direct solar gain': -24.685804994651818, 'Reflected solar gain': -23.316721698409967, 'Conduction loss to ground': 0}\n"
     ]
    }
   ],
   "source": [
    "print(ins_report_273)"
   ]
  }
 ],
 "metadata": {
  "kernelspec": {
   "display_name": "Python 3.7.4 ('base')",
   "language": "python",
   "name": "python3"
  },
  "language_info": {
   "codemirror_mode": {
    "name": "ipython",
    "version": 3
   },
   "file_extension": ".py",
   "mimetype": "text/x-python",
   "name": "python",
   "nbconvert_exporter": "python",
   "pygments_lexer": "ipython3",
   "version": "3.7.4"
  },
  "orig_nbformat": 4,
  "vscode": {
   "interpreter": {
    "hash": "68f45f90138893a109bec7658b872810e681542c980e97d59b67c6513bc4af83"
   }
  }
 },
 "nbformat": 4,
 "nbformat_minor": 2
}
