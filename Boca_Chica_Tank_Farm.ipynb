{
 "cells": [
  {
   "cell_type": "markdown",
   "metadata": {},
   "source": [
    "# Syrtis Demonstration\n",
    "# Heat Gain into a Cryogen Tank at Boca Chica, TX"
   ]
  },
  {
   "cell_type": "markdown",
   "metadata": {},
   "source": [
    "To demonstrate the StaticShell feature of Syrtis, we can analyse a simple system. SpaceX have made use of large double-walled steel tanks to store huge volumes of cryogenic propellants at their Boca Chica facility. These have an inner wall diameter of around 9m (to allow common tooling with the Starship/Super Heavy vehicle) and an outer wall diameter of around 12m. The gap between them is believed to be filled with expanded perlite.\n",
    "\n",
    "The choice to use perlite rather than a simple air gap, as well as the dimensions of this gap, can be crudely analysed with Syrtis. It should be noted that this is not an intended use for the solver, as it uses the enormously dense terrestrial atmosphere, but serves as an interesting demonstration."
   ]
  },
  {
   "cell_type": "code",
   "execution_count": 3,
   "metadata": {},
   "outputs": [],
   "source": [
    "from syrtis import *\n",
    "from syrtis.configuration import Configuration\n",
    "from syrtis.solver import Solver"
   ]
  },
  {
   "cell_type": "code",
   "execution_count": 4,
   "metadata": {},
   "outputs": [
    {
     "ename": "NameError",
     "evalue": "name 'Habitat' is not defined",
     "output_type": "error",
     "traceback": [
      "\u001b[1;31m---------------------------------------------------------------------------\u001b[0m",
      "\u001b[1;31mNameError\u001b[0m                                 Traceback (most recent call last)",
      "\u001b[1;32m<ipython-input-4-eea3d108ed6d>\u001b[0m in \u001b[0;36m<module>\u001b[1;34m\u001b[0m\n\u001b[0;32m     18\u001b[0m     \u001b[0mtankfarm\u001b[0m\u001b[1;33m.\u001b[0m\u001b[0mverify_geometry\u001b[0m\u001b[1;33m(\u001b[0m\u001b[1;33m)\u001b[0m\u001b[1;33m\u001b[0m\u001b[1;33m\u001b[0m\u001b[0m\n\u001b[0;32m     19\u001b[0m \u001b[1;33m\u001b[0m\u001b[0m\n\u001b[1;32m---> 20\u001b[1;33m     \u001b[0ms\u001b[0m \u001b[1;33m=\u001b[0m \u001b[0mSolver\u001b[0m\u001b[1;33m(\u001b[0m\u001b[1;34m\"test\"\u001b[0m\u001b[1;33m,\u001b[0m \u001b[0mtankfarm\u001b[0m\u001b[1;33m,\u001b[0m \u001b[0mbocachica\u001b[0m\u001b[1;33m)\u001b[0m\u001b[1;33m\u001b[0m\u001b[1;33m\u001b[0m\u001b[0m\n\u001b[0m\u001b[0;32m     21\u001b[0m     \u001b[0mq\u001b[0m \u001b[1;33m=\u001b[0m \u001b[0ms\u001b[0m\u001b[1;33m.\u001b[0m\u001b[0miterate_constant_temperature\u001b[0m\u001b[1;33m(\u001b[0m\u001b[1;33m)\u001b[0m\u001b[1;33m\u001b[0m\u001b[1;33m\u001b[0m\u001b[0m\n\u001b[0;32m     22\u001b[0m \u001b[1;33m\u001b[0m\u001b[0m\n",
      "\u001b[1;32mc:\\Users\\smros\\OneDrive\\Documents\\Nexus_Aurora\\Syrtis\\Syrtis\\syrtis\\solver.py\u001b[0m in \u001b[0;36m__init__\u001b[1;34m(self, name, habitat, configuration)\u001b[0m\n\u001b[0;32m     10\u001b[0m     \u001b[1;32mdef\u001b[0m \u001b[0m__init__\u001b[0m\u001b[1;33m(\u001b[0m\u001b[0mself\u001b[0m\u001b[1;33m,\u001b[0m \u001b[0mname\u001b[0m\u001b[1;33m,\u001b[0m \u001b[0mhabitat\u001b[0m\u001b[1;33m,\u001b[0m \u001b[0mconfiguration\u001b[0m\u001b[1;33m)\u001b[0m\u001b[1;33m:\u001b[0m\u001b[1;33m\u001b[0m\u001b[1;33m\u001b[0m\u001b[0m\n\u001b[0;32m     11\u001b[0m \u001b[1;33m\u001b[0m\u001b[0m\n\u001b[1;32m---> 12\u001b[1;33m         \u001b[1;32massert\u001b[0m \u001b[0mtype\u001b[0m\u001b[1;33m(\u001b[0m\u001b[0mhabitat\u001b[0m\u001b[1;33m)\u001b[0m \u001b[1;33m==\u001b[0m \u001b[0mHabitat\u001b[0m\u001b[1;33m,\u001b[0m \u001b[1;34m\"'habitat' must be a Habitat object\"\u001b[0m\u001b[1;33m\u001b[0m\u001b[1;33m\u001b[0m\u001b[0m\n\u001b[0m\u001b[0;32m     13\u001b[0m         \u001b[1;32massert\u001b[0m \u001b[0mtype\u001b[0m\u001b[1;33m(\u001b[0m\u001b[0mconfiguration\u001b[0m\u001b[1;33m)\u001b[0m \u001b[1;33m==\u001b[0m \u001b[0mConfiguration\u001b[0m\u001b[1;33m,\u001b[0m \u001b[1;34m\"'configuration' must be a Configuration object\"\u001b[0m\u001b[1;33m\u001b[0m\u001b[1;33m\u001b[0m\u001b[0m\n\u001b[0;32m     14\u001b[0m \u001b[1;33m\u001b[0m\u001b[0m\n",
      "\u001b[1;31mNameError\u001b[0m: name 'Habitat' is not defined"
     ]
    }
   ],
   "source": [
    "steel = Solid(\"Steel\", 150, 8700, 500, 0.55)\n",
    "co2 = ConstrainedIdealGas(\"STP CO2\", 101325, 44, 0.71, 10.9e-6, 749, 0.0153)\n",
    "\n",
    "bocachica = Configuration(\"bocachica\", \"constant temperature\",\n",
    "300, 1, 0.29, 300, 101325, 1, \"cross\", 90, 90, 1000, T_habitat=80)\n",
    "\n",
    "heat_gain = []\n",
    "thicknesses = np.logspace(-3, 0, 20)\n",
    "#thicknesses = np.linspace(0.001, 1.001, 500)\n",
    "\n",
    "for thickness in thicknesses:\n",
    "    tankfarm = Habitat(\"vertical\", 50, \"flat\")\n",
    "    tankfarm.create_static_shell(co2, 4.5)\n",
    "    tankfarm.create_static_shell(steel, 0.001)\n",
    "    tankfarm.create_static_shell(co2, thickness)\n",
    "    tankfarm.create_static_shell(steel, 0.001)\n",
    "\n",
    "    tankfarm.verify_geometry()\n",
    "\n",
    "    s = Solver(\"test\", tankfarm, bocachica)\n",
    "    q = s.iterate_constant_temperature()\n",
    "\n",
    "    heat_gain.append(-q)\n",
    "\n",
    "import matplotlib.pyplot as plt\n",
    "\n",
    "plt.scatter(thicknesses, heat_gain)\n",
    "plt.xscale(\"log\")\n",
    "plt.xlim(9e-4, 1.5)\n",
    "plt.xlabel(\"Gap between inner and outer wall (m)\")\n",
    "plt.ylabel(\"Heat gain into tank (W)\")\n",
    "plt.title(\"Syrtis evaluation case \\n Heat gain into GSE tanks at Boca Chica tank farm\")\n",
    "plt.show()"
   ]
  }
 ],
 "metadata": {
  "interpreter": {
   "hash": "f9353cd86920c92cc294b33189dd896ccb458a662d896a8375691a4eddb4c811"
  },
  "kernelspec": {
   "display_name": "Python 3.7.4 ('base')",
   "language": "python",
   "name": "python3"
  },
  "language_info": {
   "codemirror_mode": {
    "name": "ipython",
    "version": 3
   },
   "file_extension": ".py",
   "mimetype": "text/x-python",
   "name": "python",
   "nbconvert_exporter": "python",
   "pygments_lexer": "ipython3",
   "version": "3.7.4"
  },
  "orig_nbformat": 4
 },
 "nbformat": 4,
 "nbformat_minor": 2
}
