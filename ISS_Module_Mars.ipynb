{
 "cells": [
  {
   "cell_type": "markdown",
   "metadata": {},
   "source": [
    "# Syrtis Demonstration - Martian Environment\n",
    "# Heat Loss from an ISS Module on the Martian Surface"
   ]
  },
  {
   "cell_type": "markdown",
   "metadata": {},
   "source": [
    "This example demonstrates the full thermal solution system of Syrtis, working as intended on the surface of Mars. Our Habitat design is taken directly from the ISS, which uses a thin aluminium wall with multiple layers of thin polymer to act as a Whipple MMOD shield. Details of this shield can be found in this paper [https://ntrs.nasa.gov/api/citations/20060026214/downloads/20060026214.pdf]. We can place the Destiny laboratory directly on the Martian surface to see how it handles the radically different thermal environment.\n",
    "\n",
    "Many proposals for human Mars missions (noteably, Mars Direct) have the surface habitat transit to Mars without the benefit of a closed aeroshell. As such, the MMOD protection will be retained in our model. However, for a horizontally-oriented module we must"
   ]
  },
  {
   "cell_type": "code",
   "execution_count": 1,
   "metadata": {},
   "outputs": [],
   "source": [
    "from syrtis import *\n",
    "from syrtis.configuration import Configuration\n",
    "from syrtis.solver import Solver\n",
    "from syrtis.material import Solid, ConstrainedIdealGas\n",
    "from syrtis.habitat import Habitat\n",
    "import numpy as np"
   ]
  },
  {
   "cell_type": "code",
   "execution_count": 2,
   "metadata": {},
   "outputs": [],
   "source": [
    "# Materials definitions\n",
    "# The absorbivity of perlite and air are assumed as 0.5 but are not required\n",
    "aluminium = Solid(\"Aluminium\", 247, 2700, 900, 0.15)\n",
    "plastic = Solid(\"Generic plastic\", 10, 1300, 1420, 0.5)\n",
    "open_cell_foam = Solid(\"Generic open-cell polyurethane foam\", 0.036, 10, 1500, 0.5)\n",
    "\n",
    "internal_air = ConstrainedIdealGas(\"STP CO2\", 101325, 29, 0.71, 10.9e-6, 749, 0.0153)\n",
    "martian_air = ConstrainedIdealGas(\"Martian ambient pressure CO2\", 580, 44, 0.71, 10.9e-6, 749, 0.0153)\n",
    "\n",
    "equator = Configuration(\"Martian equator at noon\",\n",
    " \"constant temperature\", 210, 0.1, 0.29, 210, 580, 1, \"cross\", 90, 90, 605, T_habitat=290)"
   ]
  },
  {
   "cell_type": "code",
   "execution_count": 3,
   "metadata": {},
   "outputs": [],
   "source": [
    "HAB_vertical = Habitat(orientation=\"vertical\", length=8.4, endcap_type=\"flat\")\n",
    "\n",
    "HAB_vertical.create_static_shell(internal_air, 4.500)\n",
    "HAB_vertical.create_static_shell(aluminium, 4.8e-3)\n",
    "\n",
    "HAB_vertical.create_static_shell(martian_air, 50e-3, parallel_thermal_resistance=8.5e-5)\n",
    "# Parallel resistance corresponds to 1% of the cross-section being aluminium\n",
    "\n",
    "HAB_vertical.create_static_shell(plastic, 12e-3)\n",
    "HAB_vertical.create_static_shell(martian_air, 50e-3, parallel_thermal_resistance=8.4e-5)\n",
    "\n",
    "HAB_vertical.create_static_shell(aluminium, 2e-3)\n",
    "\n",
    "HAB_vertical.create_ground_level(habitat_axis_height=-2, thermal_resistance=1)\n",
    "# Thermal resistance roughly corresponds to six aluminium landing legs, each 5m long and with 50cm2 area"
   ]
  },
  {
   "cell_type": "code",
   "execution_count": 16,
   "metadata": {},
   "outputs": [],
   "source": [
    "HAB_horizontal = Habitat(orientation=\"horizontal\", length=8.4, endcap_type=\"flat\")\n",
    "\n",
    "HAB_horizontal.create_static_shell(internal_air, 4.500)\n",
    "HAB_horizontal.create_static_shell(aluminium, 4.8e-3)\n",
    "\n",
    "HAB_horizontal.create_static_shell(open_cell_foam, 50e-3, parallel_thermal_resistance=1.7e-5)\n",
    "# Parallel resistance corresponds to 5% of the cross-section being aluminium\n",
    "\n",
    "HAB_horizontal.create_static_shell(plastic, 12e-3)\n",
    "HAB_horizontal.create_static_shell(open_cell_foam, 50e-3, parallel_thermal_resistance=1.7e-5)\n",
    "\n",
    "HAB_horizontal.create_static_shell(aluminium, 2e-3)\n",
    "\n",
    "HAB_horizontal.create_ground_level(habitat_axis_height=0)"
   ]
  },
  {
   "cell_type": "code",
   "execution_count": 8,
   "metadata": {},
   "outputs": [],
   "source": [
    "cm_vertical = ConfigurationManager(HAB_vertical, equator, {\"T_habitat\":list(range(273, 303))})\n",
    "configs_vertical, heats_vertical, reports_vertical = cm_vertical.run_all_configurations(verbose=True)\n"
   ]
  },
  {
   "cell_type": "code",
   "execution_count": 17,
   "metadata": {},
   "outputs": [
    {
     "ename": "ZeroDivisionError",
     "evalue": "float division by zero",
     "output_type": "error",
     "traceback": [
      "\u001b[1;31m---------------------------------------------------------------------------\u001b[0m",
      "\u001b[1;31mZeroDivisionError\u001b[0m                         Traceback (most recent call last)",
      "\u001b[1;32m<ipython-input-17-58449a8eec81>\u001b[0m in \u001b[0;36m<module>\u001b[1;34m\u001b[0m\n\u001b[0;32m      1\u001b[0m \u001b[0mcm_horizontal\u001b[0m \u001b[1;33m=\u001b[0m \u001b[0mConfigurationManager\u001b[0m\u001b[1;33m(\u001b[0m\u001b[0mHAB_horizontal\u001b[0m\u001b[1;33m,\u001b[0m \u001b[0mequator\u001b[0m\u001b[1;33m,\u001b[0m \u001b[1;33m{\u001b[0m\u001b[1;34m\"T_habitat\"\u001b[0m\u001b[1;33m:\u001b[0m\u001b[0mlist\u001b[0m\u001b[1;33m(\u001b[0m\u001b[0mrange\u001b[0m\u001b[1;33m(\u001b[0m\u001b[1;36m273\u001b[0m\u001b[1;33m,\u001b[0m \u001b[1;36m303\u001b[0m\u001b[1;33m)\u001b[0m\u001b[1;33m)\u001b[0m\u001b[1;33m}\u001b[0m\u001b[1;33m)\u001b[0m\u001b[1;33m\u001b[0m\u001b[1;33m\u001b[0m\u001b[0m\n\u001b[1;32m----> 2\u001b[1;33m \u001b[0mconfigs_horizontal\u001b[0m\u001b[1;33m,\u001b[0m \u001b[0mheats_horizontal\u001b[0m\u001b[1;33m,\u001b[0m \u001b[0mreports_horizontal\u001b[0m \u001b[1;33m=\u001b[0m \u001b[0mcm_horizontal\u001b[0m\u001b[1;33m.\u001b[0m\u001b[0mrun_all_configurations\u001b[0m\u001b[1;33m(\u001b[0m\u001b[0mverbose\u001b[0m\u001b[1;33m=\u001b[0m\u001b[1;32mTrue\u001b[0m\u001b[1;33m)\u001b[0m\u001b[1;33m\u001b[0m\u001b[1;33m\u001b[0m\u001b[0m\n\u001b[0m",
      "\u001b[1;32mc:\\Users\\smros\\OneDrive\\Documents\\Nexus_Aurora\\Syrtis\\Syrtis\\syrtis\\solvermanager.py\u001b[0m in \u001b[0;36mrun_all_configurations\u001b[1;34m(self, verbose)\u001b[0m\n\u001b[0;32m    105\u001b[0m \u001b[1;33m\u001b[0m\u001b[0m\n\u001b[0;32m    106\u001b[0m             \u001b[1;32mif\u001b[0m \u001b[0mverbose\u001b[0m\u001b[1;33m:\u001b[0m\u001b[1;33m\u001b[0m\u001b[1;33m\u001b[0m\u001b[0m\n\u001b[1;32m--> 107\u001b[1;33m                 \u001b[0mheat_loss\u001b[0m\u001b[1;33m,\u001b[0m \u001b[0mreport\u001b[0m \u001b[1;33m=\u001b[0m \u001b[0msolver\u001b[0m\u001b[1;33m.\u001b[0m\u001b[0msolve\u001b[0m\u001b[1;33m(\u001b[0m\u001b[0mverbose\u001b[0m\u001b[1;33m)\u001b[0m\u001b[1;33m\u001b[0m\u001b[1;33m\u001b[0m\u001b[0m\n\u001b[0m\u001b[0;32m    108\u001b[0m \u001b[1;33m\u001b[0m\u001b[0m\n\u001b[0;32m    109\u001b[0m                 \u001b[0mheat_losses\u001b[0m\u001b[1;33m.\u001b[0m\u001b[0mappend\u001b[0m\u001b[1;33m(\u001b[0m\u001b[0mheat_loss\u001b[0m\u001b[1;33m)\u001b[0m\u001b[1;33m\u001b[0m\u001b[1;33m\u001b[0m\u001b[0m\n",
      "\u001b[1;32mc:\\Users\\smros\\OneDrive\\Documents\\Nexus_Aurora\\Syrtis\\Syrtis\\syrtis\\solver.py\u001b[0m in \u001b[0;36msolve\u001b[1;34m(self, verbose)\u001b[0m\n\u001b[0;32m     23\u001b[0m     \u001b[1;32mdef\u001b[0m \u001b[0msolve\u001b[0m\u001b[1;33m(\u001b[0m\u001b[0mself\u001b[0m\u001b[1;33m,\u001b[0m \u001b[0mverbose\u001b[0m\u001b[1;33m=\u001b[0m\u001b[1;32mFalse\u001b[0m\u001b[1;33m)\u001b[0m\u001b[1;33m:\u001b[0m\u001b[1;33m\u001b[0m\u001b[1;33m\u001b[0m\u001b[0m\n\u001b[0;32m     24\u001b[0m         \u001b[1;32mif\u001b[0m \u001b[0mself\u001b[0m\u001b[1;33m.\u001b[0m\u001b[0mconfiguration\u001b[0m\u001b[1;33m.\u001b[0m\u001b[0msolution_type\u001b[0m \u001b[1;33m==\u001b[0m \u001b[1;34m\"constant temperature\"\u001b[0m\u001b[1;33m:\u001b[0m\u001b[1;33m\u001b[0m\u001b[1;33m\u001b[0m\u001b[0m\n\u001b[1;32m---> 25\u001b[1;33m             \u001b[1;32mreturn\u001b[0m\u001b[1;33m(\u001b[0m\u001b[0mself\u001b[0m\u001b[1;33m.\u001b[0m\u001b[0miterate_constant_temperature\u001b[0m\u001b[1;33m(\u001b[0m\u001b[0mverbose\u001b[0m\u001b[1;33m)\u001b[0m\u001b[1;33m)\u001b[0m\u001b[1;33m\u001b[0m\u001b[1;33m\u001b[0m\u001b[0m\n\u001b[0m\u001b[0;32m     26\u001b[0m         \u001b[1;32melse\u001b[0m\u001b[1;33m:\u001b[0m\u001b[1;33m\u001b[0m\u001b[1;33m\u001b[0m\u001b[0m\n\u001b[0;32m     27\u001b[0m             \u001b[0mprint\u001b[0m\u001b[1;33m(\u001b[0m\u001b[1;34m\"Constant power not implemented yet\"\u001b[0m\u001b[1;33m)\u001b[0m\u001b[1;33m\u001b[0m\u001b[1;33m\u001b[0m\u001b[0m\n",
      "\u001b[1;32mc:\\Users\\smros\\OneDrive\\Documents\\Nexus_Aurora\\Syrtis\\Syrtis\\syrtis\\solver.py\u001b[0m in \u001b[0;36miterate_constant_temperature\u001b[1;34m(self, verbose)\u001b[0m\n\u001b[0;32m     46\u001b[0m             \u001b[0mnew_shell_temperatures\u001b[0m\u001b[1;33m,\u001b[0m \u001b[0mR_wall\u001b[0m \u001b[1;33m=\u001b[0m \u001b[0mself\u001b[0m\u001b[1;33m.\u001b[0m\u001b[0mconduction_temperatures\u001b[0m\u001b[1;33m(\u001b[0m\u001b[0mshell_temperatures\u001b[0m\u001b[1;33m,\u001b[0m \u001b[0mQ_internal_flux\u001b[0m\u001b[1;33m)\u001b[0m\u001b[1;33m\u001b[0m\u001b[1;33m\u001b[0m\u001b[0m\n\u001b[0;32m     47\u001b[0m \u001b[1;33m\u001b[0m\u001b[0m\n\u001b[1;32m---> 48\u001b[1;33m             \u001b[0mQ_external_flux\u001b[0m \u001b[1;33m=\u001b[0m \u001b[0mself\u001b[0m\u001b[1;33m.\u001b[0m\u001b[0mexternal_losses\u001b[0m\u001b[1;33m(\u001b[0m\u001b[0mnew_shell_temperatures\u001b[0m\u001b[1;33m[\u001b[0m\u001b[1;33m-\u001b[0m\u001b[1;36m1\u001b[0m\u001b[1;33m]\u001b[0m\u001b[1;33m,\u001b[0m \u001b[0mR_wall\u001b[0m\u001b[1;33m)\u001b[0m\u001b[1;33m\u001b[0m\u001b[1;33m\u001b[0m\u001b[0m\n\u001b[0m\u001b[0;32m     49\u001b[0m \u001b[1;33m\u001b[0m\u001b[0m\n\u001b[0;32m     50\u001b[0m             \u001b[1;31m#print(current_error, Q_loss, Q_wall, new_shell_temperatures[-1])\u001b[0m\u001b[1;33m\u001b[0m\u001b[1;33m\u001b[0m\u001b[1;33m\u001b[0m\u001b[0m\n",
      "\u001b[1;32mc:\\Users\\smros\\OneDrive\\Documents\\Nexus_Aurora\\Syrtis\\Syrtis\\syrtis\\solver.py\u001b[0m in \u001b[0;36mexternal_losses\u001b[1;34m(self, wall_temperature, thermal_resistance_wall, report_full)\u001b[0m\n\u001b[0;32m    261\u001b[0m                     Q_conduction += self.habitat.conductive_loss_disc_steady(wall_temperature,\n\u001b[0;32m    262\u001b[0m                                                                             \u001b[0mself\u001b[0m\u001b[1;33m.\u001b[0m\u001b[0mconfiguration\u001b[0m\u001b[1;33m.\u001b[0m\u001b[0mT_ground\u001b[0m\u001b[1;33m,\u001b[0m\u001b[1;33m\u001b[0m\u001b[1;33m\u001b[0m\u001b[0m\n\u001b[1;32m--> 263\u001b[1;33m                                                                             self.configuration.k_ground)\n\u001b[0m\u001b[0;32m    264\u001b[0m \u001b[1;33m\u001b[0m\u001b[0m\n\u001b[0;32m    265\u001b[0m \u001b[1;33m\u001b[0m\u001b[0m\n",
      "\u001b[1;32mc:\\Users\\smros\\OneDrive\\Documents\\Nexus_Aurora\\Syrtis\\Syrtis\\syrtis\\habitat.py\u001b[0m in \u001b[0;36mconductive_loss_disc_steady\u001b[1;34m(self, T_wall, T_ground, k_ground)\u001b[0m\n\u001b[0;32m    869\u001b[0m                 \u001b[0mburied_depth\u001b[0m \u001b[1;33m=\u001b[0m \u001b[1;33m-\u001b[0m\u001b[0mself\u001b[0m\u001b[1;33m.\u001b[0m\u001b[0mgroundlevel\u001b[0m\u001b[1;33m.\u001b[0m\u001b[0mhabitat_axis_height\u001b[0m\u001b[1;33m\u001b[0m\u001b[1;33m\u001b[0m\u001b[0m\n\u001b[0;32m    870\u001b[0m \u001b[1;33m\u001b[0m\u001b[0m\n\u001b[1;32m--> 871\u001b[1;33m                 \u001b[0mS\u001b[0m \u001b[1;33m=\u001b[0m \u001b[1;36m2\u001b[0m \u001b[1;33m*\u001b[0m \u001b[0mnp\u001b[0m\u001b[1;33m.\u001b[0m\u001b[0mpi\u001b[0m \u001b[1;33m*\u001b[0m \u001b[0mself\u001b[0m\u001b[1;33m.\u001b[0m\u001b[0mradius_outer\u001b[0m \u001b[1;33m/\u001b[0m \u001b[1;33m(\u001b[0m\u001b[1;36m1\u001b[0m \u001b[1;33m-\u001b[0m \u001b[1;33m(\u001b[0m\u001b[0mself\u001b[0m\u001b[1;33m.\u001b[0m\u001b[0mradius_outer\u001b[0m\u001b[1;33m)\u001b[0m\u001b[1;33m/\u001b[0m\u001b[1;33m(\u001b[0m\u001b[1;36m2\u001b[0m \u001b[1;33m*\u001b[0m \u001b[0mburied_depth\u001b[0m\u001b[1;33m)\u001b[0m\u001b[1;33m)\u001b[0m\u001b[1;33m\u001b[0m\u001b[1;33m\u001b[0m\u001b[0m\n\u001b[0m\u001b[0;32m    872\u001b[0m \u001b[1;33m\u001b[0m\u001b[0m\n\u001b[0;32m    873\u001b[0m                 \u001b[0mQ_ground\u001b[0m \u001b[1;33m=\u001b[0m \u001b[0mk_ground\u001b[0m \u001b[1;33m*\u001b[0m \u001b[0mS\u001b[0m \u001b[1;33m*\u001b[0m \u001b[1;33m(\u001b[0m\u001b[0mT_wall\u001b[0m \u001b[1;33m-\u001b[0m \u001b[0mT_ground\u001b[0m\u001b[1;33m)\u001b[0m\u001b[1;33m\u001b[0m\u001b[1;33m\u001b[0m\u001b[0m\n",
      "\u001b[1;31mZeroDivisionError\u001b[0m: float division by zero"
     ]
    }
   ],
   "source": [
    "cm_horizontal = ConfigurationManager(HAB_horizontal, equator, {\"T_habitat\":list(range(273, 303))})\n",
    "configs_horizontal, heats_horizontal, reports_horizontal = cm_horizontal.run_all_configurations(verbose=True)"
   ]
  },
  {
   "cell_type": "code",
   "execution_count": 15,
   "metadata": {},
   "outputs": [
    {
     "data": {
      "image/png": "[encoded data removed]",
      "text/plain": [
       "<Figure size 432x288 with 1 Axes>"
      ]
     },
     "metadata": {
      "needs_background": "light"
     },
     "output_type": "display_data"
    }
   ],
   "source": [
    "habitat_temps = [(config[\"T_habitat\"]-273) for config in configs_vertical]\n",
    "import matplotlib.pyplot as plt\n",
    "\n",
    "plt.scatter(heats_vertical, habitat_temps, label=\"Vertical configuration\")\n",
    "plt.scatter(heats_horizontal, habitat_temps, label=\"Horizontal configuration, base slightly buried\")\n",
    "plt.legend()\n",
    "plt.show()"
   ]
  }
 ],
 "metadata": {
  "kernelspec": {
   "display_name": "Python 3.7.4 ('base')",
   "language": "python",
   "name": "python3"
  },
  "language_info": {
   "codemirror_mode": {
    "name": "ipython",
    "version": 3
   },
   "file_extension": ".py",
   "mimetype": "text/x-python",
   "name": "python",
   "nbconvert_exporter": "python",
   "pygments_lexer": "ipython3",
   "version": "3.7.4"
  },
  "orig_nbformat": 4,
  "vscode": {
   "interpreter": {
    "hash": "68f45f90138893a109bec7658b872810e681542c980e97d59b67c6513bc4af83"
   }
  }
 },
 "nbformat": 4,
 "nbformat_minor": 2
}
