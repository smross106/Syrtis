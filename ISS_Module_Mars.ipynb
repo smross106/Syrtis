{
 "cells": [
  {
   "cell_type": "markdown",
   "metadata": {},
   "source": [
    "# Syrtis Demonstration - Martian Environment\n",
    "# Heat Loss from an ISS Module on the Martian Surface"
   ]
  },
  {
   "cell_type": "markdown",
   "metadata": {},
   "source": [
    "This example demonstrates the full thermal solution system of Syrtis, working as intended on the surface of Mars. Our Habitat design is taken directly from the ISS, which uses a thin aluminium wall with multiple layers of thin polymer to act as a Whipple MMOD shield. Details of this shield can be found in this paper [https://ntrs.nasa.gov/api/citations/20060026214/downloads/20060026214.pdf]. We can place the Destiny laboratory directly on the Martian surface to see how it handles the radically different thermal environment.\n",
    "\n",
    "Many proposals for human Mars missions (noteably, Mars Direct) have the surface habitat transit to Mars without the benefit of a closed aeroshell. As such, the MMOD protection will be retained in our model. However, for a horizontally-oriented module we must"
   ]
  },
  {
   "cell_type": "code",
   "execution_count": 1,
   "metadata": {},
   "outputs": [],
   "source": [
    "from syrtis import *\n",
    "from syrtis.configuration import Configuration\n",
    "from syrtis.solver import Solver\n",
    "from syrtis.material import Solid, ConstrainedIdealGas\n",
    "from syrtis.habitat import Habitat\n",
    "import numpy as np"
   ]
  },
  {
   "cell_type": "code",
   "execution_count": 2,
   "metadata": {},
   "outputs": [],
   "source": [
    "# Materials definitions\n",
    "# The absorbivity of perlite and air are assumed as 0.5 but are not required\n",
    "painted_steel = Solid(\"Painted steel\", 15, 8700, 500, 0.1)\n",
    "aluminium = Solid(\"Aluminium\", 247, 2700, 900, 0.15)\n",
    "plastic = Solid(\"Generic plastic\", 10, 1300, 1420, 0.5)\n",
    "\n",
    "internal_air = ConstrainedIdealGas(\"STP CO2\", 101325, 29, 0.71, 10.9e-6, 749, 0.0153)\n",
    "martian_air = ConstrainedIdealGas(\"Martian ambient pressure CO2\", 580, 44, 0.71, 10.9e-6, 749, 0.0153)\n",
    "\n",
    "equator = Configuration(\"Martian equator at noon\",\n",
    " \"constant temperature\", 210, 0.1, 0.29, 210, 580, 1, \"cross\", 90, 90, 605, T_habitat=290)"
   ]
  },
  {
   "cell_type": "code",
   "execution_count": 3,
   "metadata": {},
   "outputs": [],
   "source": [
    "destiny_vertical = Habitat(orientation=\"vertical\", length=8.4, endcap_type=\"flat\")\n",
    "\n",
    "destiny_vertical.create_static_shell(internal_air, 2.00)\n",
    "destiny_vertical.create_static_shell(aluminium, 4.8e-3)\n",
    "\n",
    "destiny_vertical.create_static_shell(martian_air, 50e-3)\n",
    "destiny_vertical.create_static_shell(plastic, 12e-3)\n",
    "destiny_vertical.create_static_shell(martian_air, 50e-3)\n",
    "\n",
    "destiny_vertical.create_static_shell(aluminium, 2e-3)"
   ]
  },
  {
   "cell_type": "code",
   "execution_count": 7,
   "metadata": {},
   "outputs": [
    {
     "name": "stdout",
     "output_type": "stream",
     "text": [
      "[{'name': 'Martian equator at noon', 'solution_type': 'constant temperature', 'T_ground': 210, 'k_ground': 0.1, 'albedo_ground': 0.29, 'T_air': 220, 'p_air': 580, 'v_air': 1, 'air_direction': 'cross', 'solar_altitude': 90, 'solar_azimuth': 90, 'solar_intensity': 605, 'Q_habitat': 0, 'T_habitat': 300, 'GRAVITY': 3.71, 'air': <syrtis.material.ConstrainedIdealGas object at 0x00000197D652B748>}, {'name': 'Martian equator at noon', 'solution_type': 'constant temperature', 'T_ground': 210, 'k_ground': 0.1, 'albedo_ground': 0.29, 'T_air': 220, 'p_air': 580, 'v_air': 1, 'air_direction': 'cross', 'solar_altitude': 90, 'solar_azimuth': 90, 'solar_intensity': 605, 'Q_habitat': 0, 'T_habitat': 300, 'GRAVITY': 3.71, 'air': <syrtis.material.ConstrainedIdealGas object at 0x00000197D652B748>}, {'name': 'Martian equator at noon', 'solution_type': 'constant temperature', 'T_ground': 210, 'k_ground': 0.1, 'albedo_ground': 0.29, 'T_air': 220, 'p_air': 580, 'v_air': 1, 'air_direction': 'cross', 'solar_altitude': 90, 'solar_azimuth': 90, 'solar_intensity': 605, 'Q_habitat': 0, 'T_habitat': 300, 'GRAVITY': 3.71, 'air': <syrtis.material.ConstrainedIdealGas object at 0x00000197D652B748>}]\n",
      "[1172.1114343221998, 1172.1114343221998, 1172.1114343221998]\n"
     ]
    }
   ],
   "source": [
    "cm = ConfigurationManager(destiny_vertical, equator, {\"T_air\":[200, 210, 220]})\n",
    "print(cm.each_configuration_inputs_dicts)\n",
    "a,b,c = cm.run_all_configurations(verbose=True)\n",
    "print(c)\n"
   ]
  }
 ],
 "metadata": {
  "kernelspec": {
   "display_name": "Python 3.7.4 ('base')",
   "language": "python",
   "name": "python3"
  },
  "language_info": {
   "codemirror_mode": {
    "name": "ipython",
    "version": 3
   },
   "file_extension": ".py",
   "mimetype": "text/x-python",
   "name": "python",
   "nbconvert_exporter": "python",
   "pygments_lexer": "ipython3",
   "version": "3.7.4"
  },
  "orig_nbformat": 4,
  "vscode": {
   "interpreter": {
    "hash": "68f45f90138893a109bec7658b872810e681542c980e97d59b67c6513bc4af83"
   }
  }
 },
 "nbformat": 4,
 "nbformat_minor": 2
}
