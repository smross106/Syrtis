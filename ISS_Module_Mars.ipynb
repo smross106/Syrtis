{
 "cells": [
  {
   "cell_type": "markdown",
   "metadata": {},
   "source": [
    "# Syrtis Demonstration - Martian Environment\n",
    "# Heat Loss from a Mars Direct-style Habitat on the Martian Surface"
   ]
  },
  {
   "cell_type": "markdown",
   "metadata": {},
   "source": [
    "This example demonstrates the full thermal solution system of Syrtis, working as intended on the surface of Mars. Our Habitat design based on the Mars Direct Hab with wall thickness based on the ISS Destiny module. This uses a thin aluminium wall with multiple spaced layers of thin polymer to act as a Whipple MMOD shield. Details of this shield can be found in [this paper](https://ntrs.nasa.gov/api/citations/20060026214/downloads/20060026214.pdf). The Hab is placed at the Martian solar equator at local noon (sun directly overhead).\n",
    "\n",
    "Many proposals for human Mars missions (noteably, Mars Direct) have the surface habitat transit to Mars without the benefit of a closed aeroshell. As such, the MMOD protection will be retained in our model. For a vertical configuration, landing legs with an arbitrary thermal resistance are added to account for ground conduction. However, for a horizontally-oriented module we must use a more mechanically rigid layer to support the habitat as it rests on the outer skin. A generic polyurethane foam replaces the 50mm airgap between the layers of the MMOD shield."
   ]
  },
  {
   "cell_type": "code",
   "execution_count": 1,
   "metadata": {},
   "outputs": [],
   "source": [
    "from syrtis import *\n",
    "from syrtis.configuration import Configuration\n",
    "from syrtis.solver import Solver\n",
    "from syrtis.material import Solid, ConstrainedIdealGas\n",
    "from syrtis.habitat import Habitat\n",
    "import numpy as np\n",
    "import matplotlib.pyplot as plt"
   ]
  },
  {
   "cell_type": "markdown",
   "metadata": {},
   "source": [
    "### Setup and Configuration\n",
    "The syrtis modules are imported. The three solid materials used (aluminium, a generic plastic and open-cell foam) and two gases are created. \n",
    "\n",
    "The baseline Configuration is created - later, ConfigurationManagers will be used to iterate through a range of habitat temperatures (`T_hab`) to obtain a performance chart."
   ]
  },
  {
   "cell_type": "code",
   "execution_count": 2,
   "metadata": {},
   "outputs": [],
   "source": [
    "# Materials definitions\n",
    "# The absorbivity of perlite and air are assumed as 0.5 but are not required\n",
    "aluminium = Solid(\"Aluminium\", 247, 2700, 900, 0.15)\n",
    "plastic = Solid(\"Generic plastic\", 10, 1300, 1420, 0.5)\n",
    "open_cell_foam = Solid(\"Generic open-cell polyurethane foam\", 0.036, 10, 1500, 0.5)\n",
    "\n",
    "internal_air = ConstrainedIdealGas(\"STP CO2\", 101325, 29, 0.71, 10.9e-6, 749, 0.0153)\n",
    "martian_air = ConstrainedIdealGas(\"Martian ambient pressure CO2\", 580, 44, 0.71, 10.9e-6, 749, 0.0153)\n",
    "\n",
    "equator = Configuration(\"Martian equator at noon\",\n",
    " \"constant temperature\", 210, 0.3, 0.29, 210, 580, 1, \"cross\", 90, 90, 605, T_habitat=290)"
   ]
  },
  {
   "cell_type": "markdown",
   "metadata": {},
   "source": [
    "## Vertically-Oriented Geometry\n",
    "\n",
    "A geometry for the Hab in a vertical orientation is created. The outer diameter is around 9m, as per Robert Zubrin's original plan. The wall cross-section matches that of the Destiny ISS module. An inner 4.8mm aluminium skin holds pressure, followed by two 5cm gaps separated by a 2mm layer of plastic. On Destiny this is a Nomex/Kevlar composite for appropriate MMOD protection but for thermal properties a generic plastic is used.\n",
    "\n",
    "To represent the structure separating the gaps, a parallel thermal resistance is included. This value is hand-calculated, and is equal to filling 1% of the cross section with aluminium.\n",
    "\n",
    "The thermal resistance to the ground is estimated, through a generic set of six landing leg struts. These are assumed to be made of aluminium, with a 50cm2 cross section and 5m of length."
   ]
  },
  {
   "cell_type": "code",
   "execution_count": 3,
   "metadata": {},
   "outputs": [],
   "source": [
    "HAB_vertical = Habitat(orientation=\"vertical\", length=6, endcap_type=\"flat\")\n",
    "\n",
    "HAB_vertical.create_static_shell(internal_air, 4.400)\n",
    "HAB_vertical.create_static_shell(aluminium, 4.8e-3)\n",
    "\n",
    "HAB_vertical.create_static_shell(martian_air, 50e-3, parallel_thermal_resistance=8.5e-5)\n",
    "# Parallel resistance corresponds to 1% of the cross-section being aluminium\n",
    "\n",
    "HAB_vertical.create_static_shell(plastic, 12e-3)\n",
    "HAB_vertical.create_static_shell(martian_air, 50e-3, parallel_thermal_resistance=8.4e-5)\n",
    "\n",
    "HAB_vertical.create_static_shell(aluminium, 2e-3)\n",
    "\n",
    "HAB_vertical.create_ground_level(habitat_axis_height=2, thermal_resistance=1)\n",
    "# Thermal resistance roughly corresponds to six aluminium landing legs, each 5m long and with 50cm2 area"
   ]
  },
  {
   "cell_type": "markdown",
   "metadata": {},
   "source": [
    "## Horizontally-oriented Geometry\n",
    "\n",
    "The horizontally-lying habitat uses a similar geometry with some slight changes. As the skin of the habitat must now support the weight of the soil, the air gaps are filled with a foam-like material and the reinforcement structure must be increased. The foam is represented with open-cell polyurethane foam, and the aluminium cross-section fill (see above) is increased from 1% to 5%.\n",
    "\n",
    "Unlike the vertical case, which rests on landing legs, the bottom of the horizontal habitat is embedded in the ground. In fact, 3.4m of useable space is below ground level. This could plausibly be used for crew quarters as it would experience less cosmic ray-originated radiation."
   ]
  },
  {
   "cell_type": "code",
   "execution_count": 4,
   "metadata": {},
   "outputs": [],
   "source": [
    "HAB_horizontal = Habitat(orientation=\"horizontal\", length=6, endcap_type=\"flat\")\n",
    "\n",
    "HAB_horizontal.create_static_shell(internal_air, 4.400)\n",
    "HAB_horizontal.create_static_shell(aluminium, 4.8e-3)\n",
    "\n",
    "HAB_horizontal.create_static_shell(open_cell_foam, 50e-3, parallel_thermal_resistance=1.7e-5)\n",
    "# Parallel resistance corresponds to 5% of the cross-section being aluminium\n",
    "\n",
    "HAB_horizontal.create_static_shell(plastic, 12e-3)\n",
    "HAB_horizontal.create_static_shell(open_cell_foam, 50e-3, parallel_thermal_resistance=1.7e-5)\n",
    "\n",
    "HAB_horizontal.create_static_shell(aluminium, 2e-3)\n",
    "\n",
    "HAB_horizontal.create_ground_level(habitat_axis_height=1)"
   ]
  },
  {
   "cell_type": "markdown",
   "metadata": {},
   "source": [
    "## Configuration Creation\n",
    "\n",
    "Configurations for both the vertical and horizontal cases are created and executed"
   ]
  },
  {
   "cell_type": "code",
   "execution_count": 5,
   "metadata": {},
   "outputs": [],
   "source": [
    "cm_vertical = ConfigurationManager(HAB_vertical, equator, {\"T_habitat\":list(range(273, 313,10))})\n",
    "configs_vertical, heats_vertical, reports_vertical = cm_vertical.run_all_configurations(verbose=True)\n"
   ]
  },
  {
   "cell_type": "code",
   "execution_count": 6,
   "metadata": {},
   "outputs": [],
   "source": [
    "cm_horizontal = ConfigurationManager(HAB_horizontal, equator, {\"T_habitat\":list(range(273, 313,10))})\n",
    "configs_horizontal, heats_horizontal, reports_horizontal = cm_horizontal.run_all_configurations(verbose=True)"
   ]
  },
  {
   "cell_type": "code",
   "execution_count": 7,
   "metadata": {},
   "outputs": [],
   "source": [
    "habitat_temps = [(config[\"T_habitat\"]-273) for config in configs_vertical]"
   ]
  },
  {
   "cell_type": "markdown",
   "metadata": {},
   "source": [
    "## Results\n",
    "\n",
    "The initial results set is the power loss-temperature plot. These show the range of heat dissipations for a given internal wall temperature, based on an extended habitable range."
   ]
  },
  {
   "cell_type": "code",
   "execution_count": 8,
   "metadata": {},
   "outputs": [
    {
     "data": {
      "image/png": "[encoded data removed]",
      "text/plain": [
       "<Figure size 432x288 with 1 Axes>"
      ]
     },
     "metadata": {
      "needs_background": "light"
     },
     "output_type": "display_data"
    }
   ],
   "source": [
    "plt.scatter(heats_vertical, habitat_temps, label=\"Vertical configuration\")\n",
    "plt.scatter(heats_horizontal, habitat_temps, label=\"Horizontal configuration, base slightly buried\")\n",
    "\n",
    "plt.xlabel(\"Heat flux (W)\")\n",
    "plt.ylabel(\"Habitat internal temperature (C)\")\n",
    "plt.title(\"Internal temperature vs heat loss\")\n",
    "\n",
    "plt.legend()\n",
    "plt.show()"
   ]
  },
  {
   "cell_type": "code",
   "execution_count": 9,
   "metadata": {},
   "outputs": [],
   "source": [
    "vertical_report_293 = [reports_vertical[i] for i in range(len(reports_vertical)) \n",
    "if (configs_vertical[i][\"T_habitat\"] == 293)][0]\n",
    "\n",
    "horizontal_report_293 = [reports_horizontal[i] for i in range(len(reports_horizontal)) \n",
    "if (configs_horizontal[i][\"T_habitat\"] == 293)][0]\n"
   ]
  },
  {
   "cell_type": "code",
   "execution_count": 10,
   "metadata": {},
   "outputs": [
    {
     "name": "stdout",
     "output_type": "stream",
     "text": [
      "{'Total heat flux out': -1496.922758710504, 'Outer wall temperature': 293.26281016657344, 'Convective loss from cylinder': 863.9467974313995, 'Convective loss from endcap': 538.6903972802213, 'Radiative loss to sky': 5589.950776874877, 'Radiative loss to ground': 5589.950776874877, 'Radiative gain from sky': -601.7998783202795, 'Radiative gain from ground': -1469.796453773152, 'Direct solar gain': -9102.253956209452, 'Reflected solar gain': -2988.874029035569, 'Conduction loss to ground': 83.26281016657344}\n",
      "{'Total heat flux out': 4944.504626176262, 'Outer wall temperature': 292.79613758892555, 'Convective loss from cylinder': 1146.655958815714, 'Convective loss from endcap': 876.7460234939381, 'Radiative loss to sky': 8015.159827384638, 'Radiative loss to ground': 8015.159827384638, 'Radiative gain from sky': -868.4061539912136, 'Radiative gain from ground': -2120.938091801631, 'Direct solar gain': -4920.973199999999, 'Reflected solar gain': -6990.159592560292, 'Conduction loss to ground': 1791.2600274504691}\n"
     ]
    }
   ],
   "source": [
    "print(vertical_report_293)\n",
    "\n",
    "print(horizontal_report_293)"
   ]
  },
  {
   "cell_type": "code",
   "execution_count": 11,
   "metadata": {},
   "outputs": [
    {
     "data": {
      "text/plain": [
       "'stack_labels = [\"Gains\", \"Losses\"]\\n\\nloss_category_labels = [\"Convective loss from cylinder\", \"Convective loss from endcap\", \"Radiative loss to sky\", \"Radiative loss to ground\", \"Conduction loss to ground\"]\\ngain_category_labels = [\"Direct solar gain\", \"Reflected solar gain\", \"Radiative gain from sky\", \"Radiative gain from ground\"]\\ncategory_labels = gain_category_labels + loss_category_labels\\n\\nvertical_gain_data = [vertical_report_293[key] for key in gain_category_labels] + list(np.zeros(len(loss_category_labels)))\\n\\nvertical_loss_data = list(np.zeros(len(gain_category_labels))) + [vertical_report_293[key] for key in loss_category_labels] \\n\\nplt.figure(figsize=(8,6))\\nplt.ylabel(\"Heat loss (W) - negative = heat gain\")\\nplt.title(\"Vertical configuration, on landing legs \\n Net heat loss {:.0f}W\".format(vertical_report_293[\"Power loss\"]))\\nsyrtis.tools.plot_stacked_bar(np.transpose([vertical_gain_data, vertical_loss_data]), \\ncategory_labels, category_labels=stack_labels)\\n'"
      ]
     },
     "execution_count": 11,
     "metadata": {},
     "output_type": "execute_result"
    }
   ],
   "source": [
    "\"\"\"stack_labels = [\"Gains\", \"Losses\"]\n",
    "\n",
    "loss_category_labels = [\"Convective loss from cylinder\", \"Convective loss from endcap\", \"Radiative loss to sky\", \"Radiative loss to ground\", \"Conduction loss to ground\"]\n",
    "gain_category_labels = [\"Direct solar gain\", \"Reflected solar gain\", \"Radiative gain from sky\", \"Radiative gain from ground\"]\n",
    "category_labels = gain_category_labels + loss_category_labels\n",
    "\n",
    "vertical_gain_data = [vertical_report_293[key] for key in gain_category_labels] + list(np.zeros(len(loss_category_labels)))\n",
    "\n",
    "vertical_loss_data = list(np.zeros(len(gain_category_labels))) + [vertical_report_293[key] for key in loss_category_labels] \n",
    "\n",
    "plt.figure(figsize=(8,6))\n",
    "plt.ylabel(\"Heat loss (W) - negative = heat gain\")\n",
    "plt.title(\"Vertical configuration, on landing legs \\n Net heat loss {:.0f}W\".format(vertical_report_293[\"Power loss\"]))\n",
    "syrtis.tools.plot_stacked_bar(np.transpose([vertical_gain_data, vertical_loss_data]), \n",
    "category_labels, category_labels=stack_labels)\n",
    "\"\"\""
   ]
  },
  {
   "cell_type": "code",
   "execution_count": 12,
   "metadata": {},
   "outputs": [
    {
     "data": {
      "text/plain": [
       "'stack_labels = [\"Gains\", \"Losses\"]\\n\\nloss_category_labels = [\"Convective loss from cylinder\", \"Convective loss from endcap\", \"Radiative loss to sky\", \"Radiative loss to ground\", \"Conduction loss to ground\"]\\ngain_category_labels = [\"Direct solar gain\", \"Reflected solar gain\", \"Radiative gain from sky\", \"Radiative gain from ground\"]\\ncategory_labels = gain_category_labels + loss_category_labels\\n\\nhorizontal_gain_data = [horizontal_report_293[key] for key in gain_category_labels] + list(np.zeros(len(loss_category_labels)))\\n\\nhorizontal_loss_data = list(np.zeros(len(gain_category_labels))) + [horizontal_report_293[key] for key in loss_category_labels]\\n\\nplt.figure(figsize=(8,6))\\nplt.ylabel(\"Heat loss (W) - negative = heat gain\")\\nplt.title(\"Horizontal configuration, bottom 3.5m below ground \\n Net heat loss {:.0f}W\".format(horizontal_report_293[\"Power loss\"]))\\nsyrtis.tools.plot_stacked_bar(np.transpose([horizontal_gain_data, horizontal_loss_data]), \\ncategory_labels, category_labels=stack_labels)'"
      ]
     },
     "execution_count": 12,
     "metadata": {},
     "output_type": "execute_result"
    }
   ],
   "source": [
    "\"\"\"stack_labels = [\"Gains\", \"Losses\"]\n",
    "\n",
    "loss_category_labels = [\"Convective loss from cylinder\", \"Convective loss from endcap\", \"Radiative loss to sky\", \"Radiative loss to ground\", \"Conduction loss to ground\"]\n",
    "gain_category_labels = [\"Direct solar gain\", \"Reflected solar gain\", \"Radiative gain from sky\", \"Radiative gain from ground\"]\n",
    "category_labels = gain_category_labels + loss_category_labels\n",
    "\n",
    "horizontal_gain_data = [horizontal_report_293[key] for key in gain_category_labels] + list(np.zeros(len(loss_category_labels)))\n",
    "\n",
    "horizontal_loss_data = list(np.zeros(len(gain_category_labels))) + [horizontal_report_293[key] for key in loss_category_labels]\n",
    "\n",
    "plt.figure(figsize=(8,6))\n",
    "plt.ylabel(\"Heat loss (W) - negative = heat gain\")\n",
    "plt.title(\"Horizontal configuration, bottom 3.5m below ground \\n Net heat loss {:.0f}W\".format(horizontal_report_293[\"Power loss\"]))\n",
    "syrtis.tools.plot_stacked_bar(np.transpose([horizontal_gain_data, horizontal_loss_data]), \n",
    "category_labels, category_labels=stack_labels)\"\"\""
   ]
  },
  {
   "cell_type": "code",
   "execution_count": 13,
   "metadata": {},
   "outputs": [
    {
     "name": "stdout",
     "output_type": "stream",
     "text": [
      "[[ -601.79987832 -1469.79645377 -9102.25395621 -2988.87402904]\n",
      " [    0.             0.             0.             0.        ]\n",
      " [ -868.40615399 -2120.9380918  -4920.9732     -6990.15959256]\n",
      " [    0.             0.             0.             0.        ]] \n",
      " [[   0.            0.            0.            0.            0.        ]\n",
      " [ 863.94679743  538.69039728 5589.95077687 5589.95077687   83.26281017]\n",
      " [   0.            0.            0.            0.            0.        ]\n",
      " [1146.65595882  876.74602349 8015.15982738 8015.15982738 1791.26002745]]\n",
      "[   0.          863.94679743    0.         1146.65595882]\n",
      "[  0.         538.69039728   0.         876.74602349]\n",
      "[   0.         5589.95077687    0.         8015.15982738]\n",
      "[   0.         5589.95077687    0.         8015.15982738]\n",
      "[   0.           83.26281017    0.         1791.26002745]\n"
     ]
    },
    {
     "data": {
      "image/png": "[encoded data removed]",
      "text/plain": [
       "<Figure size 576x432 with 1 Axes>"
      ]
     },
     "metadata": {
      "needs_background": "light"
     },
     "output_type": "display_data"
    }
   ],
   "source": [
    "plt.figure(figsize=(8,6))\n",
    "tools.plot_power_balance([vertical_report_293, horizontal_report_293])"
   ]
  }
 ],
 "metadata": {
  "kernelspec": {
   "display_name": "Python 3.7.4 ('base')",
   "language": "python",
   "name": "python3"
  },
  "language_info": {
   "codemirror_mode": {
    "name": "ipython",
    "version": 3
   },
   "file_extension": ".py",
   "mimetype": "text/x-python",
   "name": "python",
   "nbconvert_exporter": "python",
   "pygments_lexer": "ipython3",
   "version": "3.7.4"
  },
  "orig_nbformat": 4,
  "vscode": {
   "interpreter": {
    "hash": "68f45f90138893a109bec7658b872810e681542c980e97d59b67c6513bc4af83"
   }
  }
 },
 "nbformat": 4,
 "nbformat_minor": 2
}
